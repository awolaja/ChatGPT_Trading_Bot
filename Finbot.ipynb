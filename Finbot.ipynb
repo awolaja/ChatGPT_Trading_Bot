{
  "nbformat": 4,
  "nbformat_minor": 0,
  "metadata": {
    "colab": {
      "provenance": [],
      "authorship_tag": "ABX9TyP/Ploxh4ntM3io3VFlsokY",
      "include_colab_link": true
    },
    "kernelspec": {
      "name": "python3",
      "display_name": "Python 3"
    },
    "language_info": {
      "name": "python"
    }
  },
  "cells": [
    {
      "cell_type": "markdown",
      "metadata": {
        "id": "view-in-github",
        "colab_type": "text"
      },
      "source": [
        "<a href=\"https://colab.research.google.com/github/awolaja/ChatGPT_Trading_Bot/blob/main/Finbot.ipynb\" target=\"_parent\"><img src=\"https://colab.research.google.com/assets/colab-badge.svg\" alt=\"Open In Colab\"/></a>"
      ]
    },
    {
      "cell_type": "code",
      "execution_count": null,
      "metadata": {
        "id": "L4JCHjLTv3nR"
      },
      "outputs": [],
      "source": [
        "!pip install setuptools==64.0.2\n",
        "!apt-get install swig\n",
        "!pip install wrds\n",
        "!pip install git+https://github.com/AI4Finance-LLC/FinRL-Library.git\n"
      ]
    }
  ]
}