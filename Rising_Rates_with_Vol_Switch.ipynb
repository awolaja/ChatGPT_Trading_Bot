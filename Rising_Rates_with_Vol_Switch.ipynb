{
  "nbformat": 4,
  "nbformat_minor": 0,
  "metadata": {
    "colab": {
      "provenance": [],
      "authorship_tag": "ABX9TyMdYd5VYE0RwcNxoiYCVpz2",
      "include_colab_link": true
    },
    "kernelspec": {
      "name": "python3",
      "display_name": "Python 3"
    },
    "language_info": {
      "name": "python"
    }
  },
  "cells": [
    {
      "cell_type": "markdown",
      "metadata": {
        "id": "view-in-github",
        "colab_type": "text"
      },
      "source": [
        "<a href=\"https://colab.research.google.com/github/awolaja/ChatGPT_Trading_Bot/blob/main/Rising_Rates_with_Vol_Switch.ipynb\" target=\"_parent\"><img src=\"https://colab.research.google.com/assets/colab-badge.svg\" alt=\"Open In Colab\"/></a>"
      ]
    },
    {
      "cell_type": "code",
      "source": [
        "pip install alpaca-trade-api"
      ],
      "metadata": {
        "id": "Muk7ivef7tH1"
      },
      "execution_count": null,
      "outputs": []
    },
    {
      "cell_type": "code",
      "source": [
        "!pip install --upgrade alpaca-trade-api\n"
      ],
      "metadata": {
        "colab": {
          "base_uri": "https://localhost:8080/"
        },
        "id": "n2x8h_HsIS7V",
        "outputId": "2d9a926d-04d1-48c0-f999-5997770933f0"
      },
      "execution_count": 46,
      "outputs": [
        {
          "output_type": "stream",
          "name": "stdout",
          "text": [
            "Requirement already satisfied: alpaca-trade-api in /usr/local/lib/python3.10/dist-packages (3.0.2)\n",
            "Requirement already satisfied: pandas>=0.18.1 in /usr/local/lib/python3.10/dist-packages (from alpaca-trade-api) (1.5.3)\n",
            "Requirement already satisfied: numpy>=1.11.1 in /usr/local/lib/python3.10/dist-packages (from alpaca-trade-api) (1.23.5)\n",
            "Requirement already satisfied: requests<3,>2 in /usr/local/lib/python3.10/dist-packages (from alpaca-trade-api) (2.31.0)\n",
            "Requirement already satisfied: urllib3<2,>1.24 in /usr/local/lib/python3.10/dist-packages (from alpaca-trade-api) (1.26.18)\n",
            "Requirement already satisfied: websocket-client<2,>=0.56.0 in /usr/local/lib/python3.10/dist-packages (from alpaca-trade-api) (1.6.4)\n",
            "Requirement already satisfied: websockets<11,>=9.0 in /usr/local/lib/python3.10/dist-packages (from alpaca-trade-api) (10.4)\n",
            "Requirement already satisfied: msgpack==1.0.3 in /usr/local/lib/python3.10/dist-packages (from alpaca-trade-api) (1.0.3)\n",
            "Requirement already satisfied: aiohttp==3.8.2 in /usr/local/lib/python3.10/dist-packages (from alpaca-trade-api) (3.8.2)\n",
            "Requirement already satisfied: PyYAML==6.0 in /usr/local/lib/python3.10/dist-packages (from alpaca-trade-api) (6.0)\n",
            "Requirement already satisfied: deprecation==2.1.0 in /usr/local/lib/python3.10/dist-packages (from alpaca-trade-api) (2.1.0)\n",
            "Requirement already satisfied: attrs>=17.3.0 in /usr/local/lib/python3.10/dist-packages (from aiohttp==3.8.2->alpaca-trade-api) (23.1.0)\n",
            "Requirement already satisfied: charset-normalizer<3.0,>=2.0 in /usr/local/lib/python3.10/dist-packages (from aiohttp==3.8.2->alpaca-trade-api) (2.1.1)\n",
            "Requirement already satisfied: multidict<6.0,>=4.5 in /usr/local/lib/python3.10/dist-packages (from aiohttp==3.8.2->alpaca-trade-api) (5.2.0)\n",
            "Requirement already satisfied: async-timeout<5.0,>=4.0.0a3 in /usr/local/lib/python3.10/dist-packages (from aiohttp==3.8.2->alpaca-trade-api) (4.0.3)\n",
            "Requirement already satisfied: yarl<2.0,>=1.0 in /usr/local/lib/python3.10/dist-packages (from aiohttp==3.8.2->alpaca-trade-api) (1.9.2)\n",
            "Requirement already satisfied: frozenlist>=1.1.1 in /usr/local/lib/python3.10/dist-packages (from aiohttp==3.8.2->alpaca-trade-api) (1.4.0)\n",
            "Requirement already satisfied: aiosignal>=1.1.2 in /usr/local/lib/python3.10/dist-packages (from aiohttp==3.8.2->alpaca-trade-api) (1.3.1)\n",
            "Requirement already satisfied: packaging in /usr/local/lib/python3.10/dist-packages (from deprecation==2.1.0->alpaca-trade-api) (23.2)\n",
            "Requirement already satisfied: python-dateutil>=2.8.1 in /usr/local/lib/python3.10/dist-packages (from pandas>=0.18.1->alpaca-trade-api) (2.8.2)\n",
            "Requirement already satisfied: pytz>=2020.1 in /usr/local/lib/python3.10/dist-packages (from pandas>=0.18.1->alpaca-trade-api) (2023.3.post1)\n",
            "Requirement already satisfied: idna<4,>=2.5 in /usr/local/lib/python3.10/dist-packages (from requests<3,>2->alpaca-trade-api) (3.4)\n",
            "Requirement already satisfied: certifi>=2017.4.17 in /usr/local/lib/python3.10/dist-packages (from requests<3,>2->alpaca-trade-api) (2023.7.22)\n",
            "Requirement already satisfied: six>=1.5 in /usr/local/lib/python3.10/dist-packages (from python-dateutil>=2.8.1->pandas>=0.18.1->alpaca-trade-api) (1.16.0)\n"
          ]
        }
      ]
    },
    {
      "cell_type": "code",
      "execution_count": 55,
      "metadata": {
        "id": "pQ5QVvqm7SkU"
      },
      "outputs": [],
      "source": [
        "import pandas as pd\n",
        "import yfinance as yf\n",
        "import numpy as np\n",
        "import alpaca_trade_api as tradeapi\n",
        "from datetime import datetime, timedelta\n",
        "#from alpaca_trade_api import REST"
      ]
    },
    {
      "cell_type": "code",
      "source": [
        "# Define your Alpaca API key and secret key\n",
        "api_key = \"PKB5WOUADWU7FATFGCYO\"\n",
        "api_secret = \"s5SHSPqQ7NdZdS5xIGNrb1PeOeSY6MIJ6csRy9Fp\"\n",
        "BASE_URL = 'https://paper-api.alpaca.markets'"
      ],
      "metadata": {
        "id": "nS9ulrOT8OE5"
      },
      "execution_count": 56,
      "outputs": []
    },
    {
      "cell_type": "code",
      "source": [
        "# Initialize the Alpaca API connection\n",
        "api = tradeapi.REST(api_key, api_secret, base_url=BASE_URL)"
      ],
      "metadata": {
        "id": "7BAiMx5O9Ij1"
      },
      "execution_count": 57,
      "outputs": []
    },
    {
      "cell_type": "code",
      "source": [
        "# getting historical data\n",
        "def get_historical_data(symbol, timeframe='1Day', limit=100):\n",
        "    barset = api.get_bars(symbol, timeframe, limit=limit).df\n",
        "    return barset"
      ],
      "metadata": {
        "id": "rxX8xF_m9N_P"
      },
      "execution_count": 58,
      "outputs": []
    },
    {
      "cell_type": "code",
      "source": [
        "# calcuting rsi\n",
        "def calculate_rsi(data, period=14):\n",
        "    delta = data['close'].diff()\n",
        "    gain = (delta.where(delta > 0, 0)).rolling(window=period).mean()\n",
        "    loss = (-delta.where(delta < 0, 0)).rolling(window=period).mean()\n",
        "\n",
        "    rs = gain / loss\n",
        "    rsi = 100 - (100 / (1 + rs))\n",
        "    return rsi"
      ],
      "metadata": {
        "id": "Q2p48zSL9Ptu"
      },
      "execution_count": 59,
      "outputs": []
    },
    {
      "cell_type": "code",
      "source": [
        "# Define the reward function\n",
        "def calculate_ma(data, period=25):\n",
        "    return data['close'].rolling(window=period).mean()"
      ],
      "metadata": {
        "id": "SQhKX6jc9VOQ"
      },
      "execution_count": 60,
      "outputs": []
    },
    {
      "cell_type": "code",
      "source": [
        "def calculate_max_drawdown(close_prices):\n",
        "    # This function will calculate the max drawdown in the last 10 days\n",
        "    roll_max = close_prices.rolling(10, min_periods=1).max()\n",
        "    daily_drawdown = close_prices/roll_max - 1.0\n",
        "    max_drawdown = daily_drawdown.rolling(10, min_periods=1).min()\n",
        "    return max_drawdown"
      ],
      "metadata": {
        "id": "XadM1DoZ9Y0M"
      },
      "execution_count": 61,
      "outputs": []
    },
    {
      "cell_type": "code",
      "source": [
        "def select_bottom_by_rsi(symbols, period=10):\n",
        "    # Select the symbol with the lowest RSI\n",
        "    min_rsi = float('inf')\n",
        "    selected_symbol = None\n",
        "    for symbol in symbols:\n",
        "        data = get_historical_data(symbol, limit=period)\n",
        "        rsi = calculate_rsi(data, period=period)[-1]\n",
        "        if rsi < min_rsi:\n",
        "            min_rsi = rsi\n",
        "            selected_symbol = symbol\n",
        "    return selected_symbol"
      ],
      "metadata": {
        "id": "ZtpfXjzX9aC-"
      },
      "execution_count": 62,
      "outputs": []
    },
    {
      "cell_type": "code",
      "source": [
        "def select_bottom_by_ma(symbols, period=25):\n",
        "    # Select the symbol with the lowest moving average\n",
        "    min_ma = float('inf')\n",
        "    selected_symbol = None\n",
        "    for symbol in symbols:\n",
        "        data = get_historical_data(symbol, limit=period)\n",
        "        ma = MA(data['close'], timeperiod=period)[-1]\n",
        "        if ma < min_ma:\n",
        "            min_ma = ma\n",
        "            selected_symbol = symbol\n",
        "    return selected_symbol"
      ],
      "metadata": {
        "id": "yXPEPd9Z-D_w"
      },
      "execution_count": 63,
      "outputs": []
    },
    {
      "cell_type": "code",
      "source": [
        "def place_order(symbol, qty, side, type='market', time_in_force='gtc'):\n",
        "    print(f\"Placing order: {side} {qty} shares of {symbol}\")\n",
        "    try:\n",
        "        api.submit_order(\n",
        "            symbol=symbol,\n",
        "            qty=qty,\n",
        "            side=side,\n",
        "            type=type,\n",
        "            time_in_force=time_in_force\n",
        "        )\n",
        "    except Exception as e:\n",
        "        print(f\"An exception occurred: {e}\")\n"
      ],
      "metadata": {
        "id": "tl88RAEBAC6o"
      },
      "execution_count": 64,
      "outputs": []
    },
    {
      "cell_type": "code",
      "source": [
        "def get_historical_data(symbol, timeframe='1Day', limit=100):\n",
        "    # Calculate the start date\n",
        "    start_date = (datetime.now() - timedelta(days=limit * 2)).isoformat()\n",
        "    try:\n",
        "        barset = api.get_bars(symbol, timeframe, start=start_date, limit=limit).df\n",
        "        return barset\n",
        "    except tradeapi.rest.APIError as e:\n",
        "        print(f\"Encountered an APIError: {e}\")\n",
        "        return None"
      ],
      "metadata": {
        "id": "KEUT5Wo2JvOu"
      },
      "execution_count": 69,
      "outputs": []
    },
    {
      "cell_type": "code",
      "source": [
        "# Function to execute orders\n",
        "def place_order(symbol, qty, side):\n",
        "    api.submit_order(\n",
        "        symbol=symbol,\n",
        "        qty=qty,\n",
        "        side=side,\n",
        "        type='market',\n",
        "        time_in_force='day'\n",
        "    )"
      ],
      "metadata": {
        "id": "GYPW7vENLmU6"
      },
      "execution_count": 70,
      "outputs": []
    },
    {
      "cell_type": "code",
      "source": [
        "# Strategy execution function\n",
        "def execute_strategy():\n",
        "    try:\n",
        "        qqq_data = get_historical_data('QQQ', limit=12)\n",
        "        rsi_10 = calculate_rsi(qqq_data['close'], period=10).iloc[-1]\n",
        "        rsi_12 = calculate_rsi(qqq_data['close'], period=12).iloc[-1]\n",
        "\n",
        "        # Example: assign equal weight to each position, and assume 10,000 total capital\n",
        "        account_info = api.get_account()\n",
        "        total_capital = float(account_info.equity)\n",
        "        position_size = total_capital / 5  # Example: 5 positions\n",
        "\n",
        "        if rsi_10 > 79:\n",
        "            # Buy UVXY\n",
        "            qty = position_size // qqq_data['close'].iloc[-1]\n",
        "            place_order('UVXY', qty, 'buy')\n",
        "        elif rsi_10 > 32:\n",
        "            # Buy TQQQ and BSV\n",
        "            qty_tqqq = position_size // qqq_data['close'].iloc[-1]\n",
        "            qty_bsv = position_size // get_historical_data('BSV', limit=1)['close'].iloc[-1]\n",
        "            place_order('TQQQ', qty_tqqq, 'buy')\n",
        "            place_order('BSV', qty_bsv, 'buy')\n",
        "        elif rsi_12 > 6:\n",
        "            # Buy DBMF and SQQQ\n",
        "            qty_dbmf = position_size // get_historical_data('DBMF', limit=1)['close'].iloc[-1]\n",
        "            qty_sqqq = position_size // get_historical_data('SQQQ', limit=1)['close'].iloc[-1]\n",
        "            place_order('DBMF', qty_dbmf, 'buy')\n",
        "            place_order('SQQQ', qty_sqqq, 'buy')\n",
        "        else:\n",
        "            tmf_data = get_historical_data('TMF', limit=10)\n",
        "            max_drawdown_10d = calculate_max_drawdown(tmf_data['close']).iloc[-1]\n",
        "            if max_drawdown_10d > -0.07:\n",
        "                # Buy DBMF and TMV\n",
        "                qty_dbmf = position_size // tmf_data['close'].iloc[-1]\n",
        "                qty_tmv = position_size // get_historical_data('TMV', limit=1)['close'].iloc[-1]\n",
        "                place_order('DBMF', qty_dbmf, 'buy')\n",
        "                place_order('TMV', qty_tmv, 'buy')\n",
        "            else:\n",
        "                # Apply inverse volatility weighting to the specified ETFs\n",
        "                # Assuming placeholder logic for a single ETF\n",
        "                qty_tmf = position_size // tmf_data['close'].iloc[-1]\n",
        "                place_order('TMF', qty_tmf, 'buy')\n",
        "    except Exception as e:\n",
        "        print(f\"An error occurred: {e}\")\n",
        "\n",
        "# Execute the strategy\n",
        "#"
      ],
      "metadata": {
        "id": "VbCPXrVPJ1N-"
      },
      "execution_count": 72,
      "outputs": []
    },
    {
      "cell_type": "code",
      "source": [
        "if __name__ == \"__main__\":\n",
        "    execute_strategy()"
      ],
      "metadata": {
        "id": "7XurYSQMN2kw"
      },
      "execution_count": null,
      "outputs": []
    }
  ]
}